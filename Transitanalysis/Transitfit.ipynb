{
 "metadata": {
  "name": "",
  "signature": "sha256:15bd31243e9a24b692f21551fd0dc71de16ade87e869e17f0c2ae26cf43fc21a"
 },
 "nbformat": 3,
 "nbformat_minor": 0,
 "worksheets": [
  {
   "cells": [
    {
     "cell_type": "code",
     "collapsed": false,
     "input": [
      "%matplotlib inline\n",
      "import pandas as pd\n",
      "import transit\n",
      "import numpy as np\n",
      "import matplotlib.pyplot as plt\n",
      "import scipy.optimize as op\n"
     ],
     "language": "python",
     "metadata": {},
     "outputs": [],
     "prompt_number": 10
    },
    {
     "cell_type": "markdown",
     "metadata": {},
     "source": [
      "First I read the data that has been processed with IDL (Change that!). It contains a folded light curve with time in days and relative flux."
     ]
    },
    {
     "cell_type": "code",
     "collapsed": false,
     "input": [
      "data = pd.read_table('LCdata.txt', sep='\\s+', header = None, names=['time', 'flux'])\n",
      "timeLC = data['time']\n",
      "fluxLC = data['flux']\n",
      "\n",
      "oot = np.abs(24.0*timeLC) >= 1.1 #points outside of transit\n",
      "errorLC = np.std(fluxLC[oot])"
     ],
     "language": "python",
     "metadata": {},
     "outputs": [],
     "prompt_number": 2
    },
    {
     "cell_type": "markdown",
     "metadata": {},
     "source": [
      "I define a few properties of the planet and the star, some of them will be fixed during the computations, some others not"
     ]
    },
    {
     "cell_type": "code",
     "collapsed": false,
     "input": [
      "## Planet properties\n",
      "# Not fixed\n",
      "depth = 0.000174 \n",
      "\n",
      "#Fixed\n",
      "period =  0.6892099 \n",
      "ecc = 0.0\n",
      "b = 0.5 \n",
      "\n",
      "\n",
      "\n",
      "##Star properties\n",
      "#Fixed\n",
      "mass = 1.07\n",
      "masserr = 0.04\n",
      "radius = 1.13\n",
      "radiuserr = 0.11\n",
      "\n",
      "#Not fixed\n",
      "u1 = 0.44\n",
      "u2 = 0.24\n",
      "\n",
      "# Kepler cadence\n",
      "tKep = 29.42/(60.0*24.0)\n",
      "\n",
      "allfixed = [period, ecc,  mass, radius, u1, u2, tKep]"
     ],
     "language": "python",
     "metadata": {},
     "outputs": [],
     "prompt_number": 75
    },
    {
     "cell_type": "markdown",
     "metadata": {},
     "source": [
      "Here I define a likelihood function that will help me find the best transit parameters and their uncertainties"
     ]
    },
    {
     "cell_type": "code",
     "collapsed": false,
     "input": [
      "def lnlike(theta, timeLC, fluxLC, errorLC, allfixed):\n",
      "    \"\"\"\n",
      "    Calculates the log of the likelihood of the transit model being the right model given the following parameters:\n",
      "    theta[0] = pdepth = (Rp/Rs)^2\n",
      "    theta[1] = pb = the impact parameter \n",
      "    theta[1] = pt0 = the time of transit\n",
      "    theta[2] = sigma = an additional white noise term\n",
      "    \"\"\"\n",
      "    pdepth, pb, pt0, sigma = theta\n",
      "    period, ecc, mass, radius, u1, u2, tKep = allfixed\n",
      "    s = transit.System(transit.Central(mu1=u1, mu2=u2, mass = mass, radius = radius ))\n",
      "    body = transit.Body(r=np.sqrt(pdepth)*radius, period=period, t0=pt0, b=pb, e=ecc)\n",
      "    s.add_body(body)\n",
      "    inv_sigma2 = 1.0/(errorLC**2 + sigma**2)\n",
      "    ftheo = s.light_curve(timeLC, texp=tKep, tol=1e-04, maxdepth=4)\n",
      "    return -0.5*(np.sum((fluxLC-ftheo)**2*inv_sigma2 - np.log(inv_sigma2)))"
     ],
     "language": "python",
     "metadata": {},
     "outputs": [],
     "prompt_number": 76
    },
    {
     "cell_type": "code",
     "collapsed": false,
     "input": [
      "nll = lambda *args: -lnlike(*args)\n",
      "result = op.minimize(nll, [1.2*depth, b, 0.0, 0.0], args=(timeLC, fluxLC, errorLC, allfixed), options={'disp': True}, method='Nelder-Mead')\n",
      "depth_ml, b_ml,  t0_ml, sigma_ml = result[\"x\"]"
     ],
     "language": "python",
     "metadata": {},
     "outputs": [
      {
       "output_type": "stream",
       "stream": "stdout",
       "text": [
        "Optimization terminated successfully.\n",
        "         Current function value: -2675.947135\n",
        "         Iterations: 132\n",
        "         Function evaluations: 226\n"
       ]
      }
     ],
     "prompt_number": 78
    },
    {
     "cell_type": "code",
     "collapsed": false,
     "input": [
      "# Compute the light curve integrated over a Kepler long cadence\n",
      "# exposure time.\n",
      "s = transit.System(transit.Central(mu1=u1, mu2=u2, mass = mass, radius = radius ))\n",
      "body = transit.Body(r=np.sqrt(depth_ml)*radius, period=period, t0=t0_ml, b=b_ml, e=ecc)\n",
      "s.add_body(body)\n",
      "t = np.arange(-1, 1, tKep*0.01)\n",
      "f = s.light_curve(t, texp=tKep, tol=1e-04, maxdepth=4)"
     ],
     "language": "python",
     "metadata": {},
     "outputs": [],
     "prompt_number": 79
    },
    {
     "cell_type": "code",
     "collapsed": false,
     "input": [
      "# Plot the results\n",
      "fig = plt.figure(figsize=(15,4))\n",
      "ax = fig.add_subplot(1,2,1)\n",
      "ax.scatter(24.0*timeLC,fluxLC)\n",
      "plt.xlim([-2.0, 2.0]) \n",
      "plt.ylim([1-depth*1.5, depth*0.5+1]) \n",
      "ax.set_xlabel('Time from midtransit [hours]')\n",
      "ax.set_ylabel('Relative flux')\n",
      "ax.plot(24.0*t, f)"
     ],
     "language": "python",
     "metadata": {},
     "outputs": [
      {
       "metadata": {},
       "output_type": "pyout",
       "prompt_number": 80,
       "text": [
        "[<matplotlib.lines.Line2D at 0x110f60c50>]"
       ]
      },
      {
       "metadata": {},
       "output_type": "display_data",
       "png": "[encoded data removed]",
       "text": [
        "<matplotlib.figure.Figure at 0x110f5ca10>"
       ]
      }
     ],
     "prompt_number": 80
    },
    {
     "cell_type": "code",
     "collapsed": false,
     "input": [
      "\n",
      "depth_ml, b_ml,  t0_ml, sigma_ml"
     ],
     "language": "python",
     "metadata": {},
     "outputs": [
      {
       "metadata": {},
       "output_type": "pyout",
       "prompt_number": 81,
       "text": [
        "(0.00017549170199224288,\n",
        " 0.49487705006024374,\n",
        " 9.4688372311079209e-05,\n",
        " 6.2938988497930045e-06)"
       ]
      }
     ],
     "prompt_number": 81
    },
    {
     "cell_type": "code",
     "collapsed": false,
     "input": [],
     "language": "python",
     "metadata": {},
     "outputs": []
    }
   ],
   "metadata": {}
  }
 ]
}