{
 "metadata": {
  "name": "",
  "signature": "sha256:7149867ea7da48268ad782517525a72a178936bfe76d115d7d550628672c1d1d"
 },
 "nbformat": 3,
 "nbformat_minor": 0,
 "worksheets": [
  {
   "cells": [
    {
     "cell_type": "code",
     "collapsed": false,
     "input": [
      "%matplotlib inline\n",
      "import pandas as pd\n",
      "import transit\n",
      "import numpy as np\n",
      "import matplotlib.pyplot as plt"
     ],
     "language": "python",
     "metadata": {},
     "outputs": []
    },
    {
     "cell_type": "markdown",
     "metadata": {},
     "source": [
      "First I read the data that has been processed with IDL (Change that!). It contains a folded light curve with time in days and relative flux."
     ]
    },
    {
     "cell_type": "code",
     "collapsed": false,
     "input": [
      "data = pd.read_table('LCdata.txt', sep='\\s+', header = None, names=['time', 'flux'])\n",
      "timeLC = data['time']\n",
      "fluxLC = data['flux']\n",
      "\n",
      "oot = np.abs(24.0*timeLC) >= 1.1 #points outside of transit\n",
      "errorLC = np.std(fluxLC[oot])"
     ],
     "language": "python",
     "metadata": {},
     "outputs": []
    },
    {
     "cell_type": "markdown",
     "metadata": {},
     "source": [
      "I define a few properties of the planet and the star, some of them will be fixed during the computations, some others not"
     ]
    },
    {
     "cell_type": "code",
     "collapsed": false,
     "input": [
      "## Planet properties\n",
      "# Not fixed\n",
      "depth = 0.000174 \n",
      "b = 0.5 \n",
      "\n",
      "#Fixed\n",
      "period =  0.6892099 \n",
      "ecc = 0.0\n",
      "\n",
      "##Star properties\n",
      "#Fixed\n",
      "mass = 1.07\n",
      "masserr = 0.04\n",
      "radius = 1.13\n",
      "radiuserr = 0.11\n",
      "\n",
      "#Not fixed\n",
      "u1 = 0.44\n",
      "u2 = 0.24\n"
     ],
     "language": "python",
     "metadata": {},
     "outputs": []
    },
    {
     "cell_type": "code",
     "collapsed": false,
     "input": [
      "# Build the transiting system.\n",
      "s = transit.System(transit.Central(mu1=u1+0.02, mu2=u2+0.02, mass = mass, radius = radius ))\n",
      "body = transit.Body(r=np.sqrt(depth)*radius, period=period, t0=0.0, b=b, e=ecc)\n",
      "s.add_body(body)"
     ],
     "language": "python",
     "metadata": {},
     "outputs": []
    },
    {
     "cell_type": "code",
     "collapsed": false,
     "input": [
      "# Compute the light curve integrated over a Kepler long cadence\n",
      "# exposure time.\n",
      "texp = 29.42/(60.0*24.0)\n",
      "t = np.arange(-1, 1, texp*0.01)\n",
      "f = s.light_curve(t, texp=texp, tol=1e-04, maxdepth=4)"
     ],
     "language": "python",
     "metadata": {},
     "outputs": []
    },
    {
     "cell_type": "code",
     "collapsed": false,
     "input": [
      "# Plot the results\n",
      "fig = plt.figure(figsize=(15,4))\n",
      "ax = fig.add_subplot(1,2,1)\n",
      "ax.scatter(24.0*timeLC,fluxLC)\n",
      "plt.xlim([-2.0, 2.0]) \n",
      "plt.ylim([1-depth*1.5, depth*0.5+1]) \n",
      "ax.set_xlabel('Time from midtransit [hours]')\n",
      "ax.set_ylabel('Relative flux')\n",
      "ax.plot(24.0*t, f)"
     ],
     "language": "python",
     "metadata": {},
     "outputs": []
    },
    {
     "cell_type": "code",
     "collapsed": false,
     "input": [],
     "language": "python",
     "metadata": {},
     "outputs": []
    },
    {
     "cell_type": "code",
     "collapsed": false,
     "input": [],
     "language": "python",
     "metadata": {},
     "outputs": []
    },
    {
     "cell_type": "code",
     "collapsed": false,
     "input": [],
     "language": "python",
     "metadata": {},
     "outputs": []
    }
   ],
   "metadata": {}
  }
 ]
}