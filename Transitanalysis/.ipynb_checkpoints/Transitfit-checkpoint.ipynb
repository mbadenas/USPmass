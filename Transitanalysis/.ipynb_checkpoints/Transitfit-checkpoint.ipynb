{
 "metadata": {
  "name": "",
  "signature": "sha256:da62098c15a759fc1543a661b1ee2321fc85461f8608ad3d5e51bd698c11f1d0"
 },
 "nbformat": 3,
 "nbformat_minor": 0,
 "worksheets": [
  {
   "cells": [
    {
     "cell_type": "code",
     "collapsed": false,
     "input": [
      "%matplotlib inline\n",
      "import pandas as pd\n",
      "import transit\n",
      "import numpy as np\n",
      "import matplotlib.pyplot as plt\n",
      "import scipy.optimize as op\n"
     ],
     "language": "python",
     "metadata": {},
     "outputs": [],
     "prompt_number": 7
    },
    {
     "cell_type": "markdown",
     "metadata": {},
     "source": [
      "First I read the data that has been processed with IDL (Change that!). It contains a folded light curve with time in days and relative flux."
     ]
    },
    {
     "cell_type": "code",
     "collapsed": false,
     "input": [
      "data = pd.read_table('LCdata.txt', sep='\\s+', header = None, names=['time', 'flux'])\n",
      "timeLC = data['time']\n",
      "fluxLC = data['flux']\n",
      "\n",
      "oot = np.abs(24.0*timeLC) >= 1.1 #points outside of transit\n",
      "errorLC = np.std(fluxLC[oot])"
     ],
     "language": "python",
     "metadata": {},
     "outputs": [],
     "prompt_number": 8
    },
    {
     "cell_type": "markdown",
     "metadata": {},
     "source": [
      "I define a few properties of the planet and the star, some of them will be fixed during the computations, some others not"
     ]
    },
    {
     "cell_type": "code",
     "collapsed": false,
     "input": [
      "## Planet properties\n",
      "depth = 0.000174 #initial guess\n",
      "\n",
      "period =  0.6892099 \n",
      "ecc = 0.0\n",
      "b = 0.5 \n",
      "\n",
      "##Star properties\n",
      "mass = 1.07\n",
      "masserr = 0.04\n",
      "radius = 1.13\n",
      "radiuserr = 0.11\n",
      "u1 = 0.44 #Claret\n",
      "u2 = 0.24 #Claret\n",
      "diffLD = u1-u2\n",
      "\n",
      "# Kepler cadence\n",
      "tKep = 29.42/(60.0*24.0)\n",
      "\n",
      "allfixed = [period, ecc,  mass, masserr, radius, radiuserr, diffLD, tKep]"
     ],
     "language": "python",
     "metadata": {},
     "outputs": [],
     "prompt_number": 9
    },
    {
     "cell_type": "markdown",
     "metadata": {},
     "source": [
      "Here I define a likelihood function that will help me find the best transit parameters and their uncertainties"
     ]
    },
    {
     "cell_type": "code",
     "collapsed": false,
     "input": [
      "def lnlike(theta, timeLC, fluxLC, errorLC, allfixed):\n",
      "    \"\"\"\n",
      "    Calculates the log of the likelihood of the transit model being the right model given the following parameters:\n",
      "    theta[0] = pdepth = (Rp/Rs)^2\n",
      "    theta[1] = pb = the impact parameter \n",
      "    theta[2] = pt0 = the time of transit\n",
      "    theta[3] = sigma = an additional white noise term\n",
      "    theta[4] = u1 + u2 = sum of LD coefficients\n",
      "    theta[5] = pmass = the mass of the star (controlled via gaussian prior)\n",
      "    theta[6] = pradius = the radius of the star (controlled via gaussian prior)\n",
      "    theta[7] = f0 = the out of eclipse flux\n",
      "    \"\"\"\n",
      "    pdepth, pb, pt0, sigma, sumLD, pmass, pradius, f0 = theta\n",
      "    period, ecc, mass, masserr, radius, radiuserr, diffLD, tKep = allfixed\n",
      "    u1 = 0.5*(sumLD+diffLD)\n",
      "    u2 = sumLD-u1\n",
      "    s = transit.System(transit.Central(mu1=u1, mu2=u2, mass = pmass, radius = pradius ))\n",
      "    body = transit.Body(r=np.sqrt(pdepth)*pradius, period=period, t0=pt0, b=pb, e=ecc)\n",
      "    s.add_body(body)\n",
      "    inv_sigma2 = 1.0/(errorLC**2 + sigma**2)\n",
      "    ftheo = s.light_curve(timeLC, texp=tKep, tol=1e-08, maxdepth=4)\n",
      "    ftheo = ftheo-1+f0\n",
      "    return -0.5*(np.sum((fluxLC-ftheo)**2*inv_sigma2 - np.log(inv_sigma2)) + ((pmass-mass)/masserr)**2\n",
      "            + ((pradius-radius)/radiuserr)**2)"
     ],
     "language": "python",
     "metadata": {},
     "outputs": [],
     "prompt_number": 5
    },
    {
     "cell_type": "code",
     "collapsed": false,
     "input": [
      "nll = lambda *args: -lnlike(*args)\n",
      "result = op.minimize(nll, [1.2*depth, b, 0.0, 0.0, 0.6, mass, radius, 1.0], args=(timeLC, fluxLC, errorLC, allfixed), options={'disp': True}, method='Nelder-Mead')\n",
      "depth_ml, b_ml,  t0_ml, sigma_ml, sumLD_ml, mass_ml, radius_ml, f0_ml  = result[\"x\"]\n",
      "u1_ml = 0.5*(sumLD_ml + diffLD)\n",
      "u2_ml = sumLD_ml-u1_ml"
     ],
     "language": "python",
     "metadata": {},
     "outputs": [
      {
       "output_type": "stream",
       "stream": "stdout",
       "text": [
        "Optimization terminated successfully.\n",
        "         Current function value: -2677.498234\n",
        "         Iterations: 367\n",
        "         Function evaluations: 668\n"
       ]
      }
     ],
     "prompt_number": 10
    },
    {
     "cell_type": "code",
     "collapsed": false,
     "input": [
      "# Compute the light curve integrated over a Kepler long cadence\n",
      "# exposure time.\n",
      "s = transit.System(transit.Central(mu1=u1_ml, mu2=u2_ml, mass = mass_ml, radius = radius_ml ))\n",
      "body = transit.Body(r=np.sqrt(depth_ml)*radius_ml, period=period, t0=t0_ml, b=b_ml, e=ecc)\n",
      "s.add_body(body)\n",
      "t = np.arange(-1, 1, tKep*0.01)\n",
      "f = s.light_curve(t, texp=tKep, tol=1e-08, maxdepth=4)\n",
      "f = f-1.0 + f0_ml"
     ],
     "language": "python",
     "metadata": {},
     "outputs": [],
     "prompt_number": 11
    },
    {
     "cell_type": "code",
     "collapsed": false,
     "input": [
      "# Plot the results\n",
      "fig = plt.figure(figsize=(15,4))\n",
      "ax = fig.add_subplot(1,2,1)\n",
      "ax.scatter(24.0*timeLC,fluxLC)\n",
      "plt.xlim([-2.0, 2.0]) \n",
      "plt.ylim([1-depth*1.5, depth*0.5+1]) \n",
      "ax.set_xlabel('Time from midtransit [hours]')\n",
      "ax.set_ylabel('Relative flux')\n",
      "ax.plot(24.0*t, f)"
     ],
     "language": "python",
     "metadata": {},
     "outputs": [
      {
       "metadata": {},
       "output_type": "pyout",
       "prompt_number": 12,
       "text": [
        "[<matplotlib.lines.Line2D at 0x10fc6ced0>]"
       ]
      },
      {
       "metadata": {},
       "output_type": "display_data",
       "png": "[encoded data removed]",
       "text": [
        "<matplotlib.figure.Figure at 0x10fc12350>"
       ]
      }
     ],
     "prompt_number": 12
    },
    {
     "cell_type": "code",
     "collapsed": false,
     "input": [
      "depth_ml, b_ml,  t0_ml, sigma_ml"
     ],
     "language": "python",
     "metadata": {},
     "outputs": [
      {
       "metadata": {},
       "output_type": "pyout",
       "prompt_number": 13,
       "text": [
        "(0.00017447433584084457,\n",
        " 0.49909057073455698,\n",
        " -0.00011974676478889255,\n",
        " -6.2201835030289001e-06)"
       ]
      }
     ],
     "prompt_number": 13
    },
    {
     "cell_type": "code",
     "collapsed": false,
     "input": [
      "ndim, nwalkers = 8, 100\n",
      "pos = [result[\"x\"] + 1e-4*np.random.randn(ndim) for i in range(nwalkers)]"
     ],
     "language": "python",
     "metadata": {},
     "outputs": [],
     "prompt_number": 14
    },
    {
     "cell_type": "code",
     "collapsed": false,
     "input": [
      "import emcee\n",
      "sampler = emcee.EnsembleSampler(nwalkers, ndim, lnlike, args=(timeLC, fluxLC, errorLC, allfixed))\n",
      "\n",
      "sampler.run_mcmc(pos, 500)\n",
      "\n"
     ],
     "language": "python",
     "metadata": {},
     "outputs": []
    },
    {
     "cell_type": "code",
     "collapsed": false,
     "input": [
      "samples = sampler.chain[:, 50:, :].reshape((-1, ndim))"
     ],
     "language": "python",
     "metadata": {},
     "outputs": []
    }
   ],
   "metadata": {}
  }
 ]
}